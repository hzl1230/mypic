{
 "cells": [
  {
   "cell_type": "code",
   "execution_count": 8,
   "metadata": {},
   "outputs": [],
   "source": [
    "import numpy as np\n",
    "import matplotlib.pyplot as plt\n",
    "import scipy.constants as scc\n",
    "import pandas as pd\n",
    "import math\n",
    "import scipy "
   ]
  },
  {
   "cell_type": "code",
   "execution_count": 9,
   "metadata": {},
   "outputs": [
    {
     "name": "stdout",
     "output_type": "stream",
     "text": [
      "1.380649e-23 1.602176634e-19 9.1093837015e-31 3.141592653589793 1.602176634e-19 8.8541878128e-12\n"
     ]
    }
   ],
   "source": [
    "# Define Physics Constants\n",
    "k = scc.k\n",
    "e = scc.e\n",
    "me = scc.m_e\n",
    "pi = scc.pi\n",
    "eVJ = scc.eV\n",
    "eps = scc.epsilon_0\n",
    "print(k,e,me,pi,eVJ,eps)"
   ]
  },
  {
   "cell_type": "code",
   "execution_count": 10,
   "metadata": {},
   "outputs": [
    {
     "name": "stdout",
     "output_type": "stream",
     "text": [
      "[5.39577631 1.40697426 3.20404468 7.35183718 4.84517496 2.05404897]\n"
     ]
    }
   ],
   "source": [
    "a = np.random.uniform(0,10,size=6)\n",
    "print(a)"
   ]
  },
  {
   "cell_type": "code",
   "execution_count": 11,
   "metadata": {},
   "outputs": [
    {
     "data": {
      "text/plain": [
       "0.25851999786435537"
      ]
     },
     "execution_count": 11,
     "metadata": {},
     "output_type": "execute_result"
    }
   ],
   "source": [
    "k*3000/eVJ"
   ]
  },
  {
   "cell_type": "code",
   "execution_count": 12,
   "metadata": {},
   "outputs": [
    {
     "name": "stdout",
     "output_type": "stream",
     "text": [
      "2.41432350534664e+21 1783986365.9790838 213234.6466755825 0.25851999786435537 119527060711.89928\n"
     ]
    }
   ],
   "source": [
    "T_e0 = 3000. \n",
    "n_e0 = 1e15\n",
    "Pressure = 10. \n",
    "Temperature = 300. \n",
    "e_EXC_TH = 11.5\n",
    "e_ION_TH = 15.8\n",
    "\n",
    "Ndens = Pressure/k/Temperature\n",
    "omega_pe0 = pow(n_e0*e*e/eps/me, 0.5)\n",
    "kTe0 = k*T_e0/eVJ\n",
    "v_te0 = (k*T_e0/me)**0.5\n",
    "sigma0 = n_e0*v_te0/omega_pe0\n",
    "print(Ndens,omega_pe0,v_te0,kTe0,sigma0)\n",
    "\n",
    "Ndens_ = Ndens/n_e0\n",
    "Te_ = 1\n",
    "me_ = 1\n",
    "dt_ = 0.1"
   ]
  },
  {
   "cell_type": "code",
   "execution_count": 17,
   "metadata": {},
   "outputs": [
    {
     "data": {
      "text/plain": [
       "99.99993001389635"
      ]
     },
     "execution_count": 17,
     "metadata": {},
     "output_type": "execute_result"
    }
   ],
   "source": [
    "386.817*kTe0"
   ]
  },
  {
   "cell_type": "code",
   "execution_count": 7,
   "metadata": {},
   "outputs": [],
   "source": [
    "def sample_boltez_distr(R1,R2,m=me_,Tr=Te_,Cm=0):\n",
    "    # Ci = Cm + (2*k*Tr/m)**0.5*np.sin(R1*2*pi)*(-np.log(R2))**0.5\n",
    "    Ci_ = (2*Tr/me_)**0.5*np.sin(R1*2*pi)*(-np.log(R2))**0.5\n",
    "    return Ci_\n",
    "def energy(c,m=me_):\n",
    "    return 0.5*m*c*c\n",
    "def boltez_distr(c):\n",
    "    beta = (me/2/k/T_e0)**0.5\n",
    "    # print(\"Cm =\", 1/beta)\n",
    "    c2 = c*c\n",
    "    # fc = 4/sqrt_pi*beta**3*c2*np.exp(-beta*beta*c2)\n",
    "    fc_ = (2/pi)**0.5*c2*np.exp(-0.5*c2)\n",
    "    return fc_\n",
    "def find_cmax(em):\n",
    "    em_ = em/kTe0\n",
    "    cm_ = (em_*2)**0.5\n",
    "    return cm_\n",
    "def ndv_to_e(v_,printmode=False):\n",
    "    # from v_ to e \n",
    "    e_ = 0.5*1*v_*v_\n",
    "    e0 = e_*kTe0\n",
    "    if printmode:\n",
    "        print(\"E_max=\",np.max(e0))\n",
    "    return e0\n",
    "def fabs(x):\n",
    "    return np.fabs(x)\n",
    "def sqrt(x):\n",
    "    return x**0.5"
   ]
  },
  {
   "cell_type": "code",
   "execution_count": 8,
   "metadata": {},
   "outputs": [],
   "source": [
    "# simga_tot\n",
    "f_qELA = lambda en: 1e-20*(fabs(6.0 / pow(1.0 + (en/0.1) + pow(en/0.6,2.0), 3.3)- 1.1 * pow(en, 1.4) / (1.0 + pow(en/15.0, 1.2)) / sqrt(1.0 + pow(en/5.5, 2.5) + pow(en/60.0, 4.1))) + 0.05 / pow(1.0 + en/10.0, 2.0) + 0.01 * pow(en, 3.0) / (1.0 + pow(en/12.0, 6.0)))\n",
    "\n",
    "qEXC = lambda en: 1e-20*(0.034 * pow(en-11.5, 1.1) * (1.0 + pow(en/15.0, 2.8)) / (1.0 + pow(en/23.0, 5.5)) + 0.023 * (en-11.5) / pow(1.0 + en/80.0, 1.9)) if en>e_EXC_TH else 0.\n",
    "\n",
    "qION = lambda en: 1e-20*(970.0 * (en-15.8) / pow(70.0 + en, 2.0) + 0.06 * pow(en-15.8, 2.0) * np.exp(-en/9)) if en > e_ION_TH else 0.\n",
    "\n",
    "f_qEXC = np.vectorize(qEXC)\n",
    "f_qION = np.vectorize(qION)\n",
    "\n",
    "def find_sigma_tot(e):\n",
    "    sigma_ela = f_qELA(e)\n",
    "    sigma_exc = f_qEXC(e)\n",
    "    sigma_ion = f_qION(e)\n",
    "    sigma_tot = np.zeros(sigma_ela.shape)\n",
    "    sigma = [sigma_ela, sigma_exc, sigma_ion]\n",
    "    for si in sigma:\n",
    "        sigma_tot += si\n",
    "    sigma_tot *= sigma0\n",
    "    return sigma_tot"
   ]
  },
  {
   "cell_type": "code",
   "execution_count": 9,
   "metadata": {},
   "outputs": [
    {
     "data": {
      "image/png": "[encoded data removed]",
      "text/plain": [
       "<Figure size 360x216 with 1 Axes>"
      ]
     },
     "metadata": {
      "needs_background": "light"
     },
     "output_type": "display_data"
    },
    {
     "data": {
      "image/png": "[encoded data removed]",
      "text/plain": [
       "<Figure size 360x216 with 1 Axes>"
      ]
     },
     "metadata": {
      "needs_background": "light"
     },
     "output_type": "display_data"
    }
   ],
   "source": [
    "e_max = 50\n",
    "cm_ = find_cmax(e_max)\n",
    "c_ = np.arange(0,cm_+0.01,0.01)\n",
    "fc_=boltez_distr(c_)\n",
    "e = ndv_to_e(c_)\n",
    "sigma_tot = find_sigma_tot(e)\n",
    "\n",
    "fig,ax1 = plt.subplots(figsize = (5,3))\n",
    "# ax1 = fig.add_subplot(2,1,1) \n",
    "ax1.plot(c_,boltez_distr(c_),'b')\n",
    "ax1.set_xlabel(\"Velocity\",fontsize=16)\n",
    "ax1.set_ylabel(r\"${\\tilde{f}}_c$\",fontsize=16)\n",
    "# ax2 = fig.add_subplot(2,1,2)\n",
    "fig,ax2 = plt.subplots(figsize = (5,3))\n",
    "ax2.plot(c_,sigma_tot*c_*Ndens_,'g')\n",
    "ax2.set_xlabel(\"Velocity\",fontsize=16)\n",
    "ax2.set_ylabel(r\"${\\nu}_m$\",fontsize=16)\n",
    "plt.tight_layout()"
   ]
  },
  {
   "cell_type": "code",
   "execution_count": 10,
   "metadata": {},
   "outputs": [
    {
     "name": "stdout",
     "output_type": "stream",
     "text": [
      "Non-Dimension Collision Frequency IN THIS CASE is 0.002744762867676734\n"
     ]
    }
   ],
   "source": [
    "e_max = 50\n",
    "cm_ = find_cmax(e_max)\n",
    "c_ = np.arange(0,cm_+0.01,0.01)\n",
    "fc_=boltez_distr(c_)\n",
    "e = ndv_to_e(c_)\n",
    "sigma_tot = find_sigma_tot(e)\n",
    "\n",
    "i = 0\n",
    "size = fc_.shape[0]\n",
    "dc_ = 0.01\n",
    "integer = 0\n",
    "nu = fc_*sigma_tot*c_*Ndens_\n",
    "\n",
    "while i < size-1:\n",
    "    c_half = 0.5*(c_[i]+c_[i+1])\n",
    "    en_half = ndv_to_e(c_half)\n",
    "    sigma_half = find_sigma_tot(en_half)\n",
    "    nu_half = boltez_distr(c_half)*sigma_half*c_half*Ndens_\n",
    "    s1 = (1/6*nu[i]+4/6*nu_half+1/6*nu[i+1])*dc_\n",
    "    # fc_05 = boltez_distr(0.5*(c_[i]+c_[i+1]))\n",
    "    # s1 = (1/6*fc_[i]+4/6*fc_05+1/6*fc_[i+1])*dc_\n",
    "    integer += s1\n",
    "    i += 1\n",
    "print(\"Non-Dimension Collision Frequency IN THIS CASE is\",integer)\n",
    "cfq1_ = integer"
   ]
  },
  {
   "cell_type": "code",
   "execution_count": 11,
   "metadata": {},
   "outputs": [],
   "source": [
    "def random_sample(c_,fmax,mode=\"ar\"):\n",
    "# acceptance and reject\n",
    "    if mode == \"ar\":\n",
    "        while True:\n",
    "            R1 = np.random.rand()\n",
    "            c = 0 + R1*(c_[-1]-c_[0])\n",
    "            fc = boltez_distr(c)\n",
    "            R2 = np.random.rand()\n",
    "            if R2 < fc/fmax:\n",
    "                break\n",
    "    elif mode == \"m\":\n",
    "        n = c_.shape[0]\n",
    "        sq2 = sqrt(2)\n",
    "        \n",
    "        R1 = np.random.rand(3*n)\n",
    "        R2 = np.random.rand(3*n)\n",
    "        vel = sq2*np.sin(2*pi*R1)*(-np.log(R2))**0.5\n",
    "        vx, vy, vz = vel[0:n-1], vel[n:2*n-1], vel[2*n:3*n-1]\n",
    "        c = (vx*vx+vy*vy+vz*vz)**0.5\n",
    "    return c\n",
    "\n",
    "def effective_collisions(P_cs,P_cmax):\n",
    "    nparts = P_cs.shape[0]\n",
    "    effective_collisions = 0\n",
    "    for i in range(nparts):\n",
    "        R = np.random.rand()\n",
    "        if R < P_cs[i]/P_cmax:\n",
    "            effective_collisions += 1\n",
    "    return effective_collisions"
   ]
  },
  {
   "cell_type": "code",
   "execution_count": 12,
   "metadata": {},
   "outputs": [
    {
     "data": {
      "image/png": "[encoded data removed]",
      "text/plain": [
       "<Figure size 432x288 with 1 Axes>"
      ]
     },
     "metadata": {
      "needs_background": "light"
     },
     "output_type": "display_data"
    }
   ],
   "source": [
    "N = 10000\n",
    "pc_=random_sample(np.zeros(N),1,\"m\")\n",
    "pen = ndv_to_e(pc_)\n",
    "psigma = find_sigma_tot(pen)\n",
    "nu = psigma*pc_*Ndens_\n",
    "nu_max = np.max(nu)\n",
    "\n",
    "# find null_collision part in total collision\n",
    "P_cmax = 1 - np.exp(-nu_max*dt_)\n",
    "n_selected = int(N * P_cmax)\n",
    "pc_s = np.random.choice(pc_,n_selected,replace=False)\n",
    "pen_s = ndv_to_e(pc_s)\n",
    "psigma_s = find_sigma_tot(pen_s)\n",
    "nu_s = psigma_s*pc_s*Ndens_\n",
    "P_cs = 1 - np.exp(-nu_s*dt_)\n",
    "\n",
    "collection = []\n",
    "ave = 1/(dt_*N)\n",
    "ind = np.arange(2000)\n",
    "for i in ind:\n",
    "    eff_c = effective_collisions(nu_s,nu_max)\n",
    "    collection.append(eff_c*ave)\n",
    "collection = np.array(collection)\n",
    "fqINTE = (ind*0+1)*cfq1_\n",
    "avefreq = (ind*0+1)*np.mean(collection)\n",
    "plt.scatter(ind,collection,marker='o')\n",
    "plt.plot(ind,fqINTE,linewidth=2.5,color='r')\n",
    "plt.plot(ind,avefreq,color='k',linewidth=2.5)\n",
    "plt.show()\n"
   ]
  },
  {
   "cell_type": "code",
   "execution_count": 13,
   "metadata": {},
   "outputs": [],
   "source": [
    "collision_frequency = []\n",
    "init_temp = []\n",
    "id = 0 "
   ]
  },
  {
   "cell_type": "code",
   "execution_count": 14,
   "metadata": {},
   "outputs": [
    {
     "ename": "FileNotFoundError",
     "evalue": "[Errno 2] No such file or directory: 'Fig/Inte_vs.Particle0.png'",
     "output_type": "error",
     "traceback": [
      "\u001b[0;31m---------------------------------------------------------------------------\u001b[0m",
      "\u001b[0;31mFileNotFoundError\u001b[0m                         Traceback (most recent call last)",
      "\u001b[0;32m/tmp/ipykernel_3211/3139128527.py\u001b[0m in \u001b[0;36m<module>\u001b[0;34m\u001b[0m\n\u001b[1;32m     52\u001b[0m \u001b[0mid\u001b[0m\u001b[0;34m+=\u001b[0m\u001b[0;36m1\u001b[0m\u001b[0;34m\u001b[0m\u001b[0;34m\u001b[0m\u001b[0m\n\u001b[1;32m     53\u001b[0m \u001b[0mplt\u001b[0m\u001b[0;34m.\u001b[0m\u001b[0mtight_layout\u001b[0m\u001b[0;34m(\u001b[0m\u001b[0;34m)\u001b[0m\u001b[0;34m\u001b[0m\u001b[0;34m\u001b[0m\u001b[0m\n\u001b[0;32m---> 54\u001b[0;31m \u001b[0mplt\u001b[0m\u001b[0;34m.\u001b[0m\u001b[0msavefig\u001b[0m\u001b[0;34m(\u001b[0m\u001b[0mimg_name\u001b[0m\u001b[0;34m+\u001b[0m\u001b[0;34m'.png'\u001b[0m\u001b[0;34m,\u001b[0m\u001b[0mdpi\u001b[0m\u001b[0;34m=\u001b[0m\u001b[0;36m300\u001b[0m\u001b[0;34m)\u001b[0m\u001b[0;34m\u001b[0m\u001b[0;34m\u001b[0m\u001b[0m\n\u001b[0m\u001b[1;32m     55\u001b[0m \u001b[0mplt\u001b[0m\u001b[0;34m.\u001b[0m\u001b[0mshow\u001b[0m\u001b[0;34m(\u001b[0m\u001b[0;34m)\u001b[0m\u001b[0;34m\u001b[0m\u001b[0;34m\u001b[0m\u001b[0m\n\u001b[1;32m     56\u001b[0m \u001b[0;34m\u001b[0m\u001b[0m\n",
      "\u001b[0;32m/mnt/d/anaconda3/envs/env-38/lib/python3.8/site-packages/matplotlib/pyplot.py\u001b[0m in \u001b[0;36msavefig\u001b[0;34m(*args, **kwargs)\u001b[0m\n\u001b[1;32m    964\u001b[0m \u001b[0;32mdef\u001b[0m \u001b[0msavefig\u001b[0m\u001b[0;34m(\u001b[0m\u001b[0;34m*\u001b[0m\u001b[0margs\u001b[0m\u001b[0;34m,\u001b[0m \u001b[0;34m**\u001b[0m\u001b[0mkwargs\u001b[0m\u001b[0;34m)\u001b[0m\u001b[0;34m:\u001b[0m\u001b[0;34m\u001b[0m\u001b[0;34m\u001b[0m\u001b[0m\n\u001b[1;32m    965\u001b[0m     \u001b[0mfig\u001b[0m \u001b[0;34m=\u001b[0m \u001b[0mgcf\u001b[0m\u001b[0;34m(\u001b[0m\u001b[0;34m)\u001b[0m\u001b[0;34m\u001b[0m\u001b[0;34m\u001b[0m\u001b[0m\n\u001b[0;32m--> 966\u001b[0;31m     \u001b[0mres\u001b[0m \u001b[0;34m=\u001b[0m \u001b[0mfig\u001b[0m\u001b[0;34m.\u001b[0m\u001b[0msavefig\u001b[0m\u001b[0;34m(\u001b[0m\u001b[0;34m*\u001b[0m\u001b[0margs\u001b[0m\u001b[0;34m,\u001b[0m \u001b[0;34m**\u001b[0m\u001b[0mkwargs\u001b[0m\u001b[0;34m)\u001b[0m\u001b[0;34m\u001b[0m\u001b[0;34m\u001b[0m\u001b[0m\n\u001b[0m\u001b[1;32m    967\u001b[0m     \u001b[0mfig\u001b[0m\u001b[0;34m.\u001b[0m\u001b[0mcanvas\u001b[0m\u001b[0;34m.\u001b[0m\u001b[0mdraw_idle\u001b[0m\u001b[0;34m(\u001b[0m\u001b[0;34m)\u001b[0m   \u001b[0;31m# need this if 'transparent=True' to reset colors\u001b[0m\u001b[0;34m\u001b[0m\u001b[0;34m\u001b[0m\u001b[0m\n\u001b[1;32m    968\u001b[0m     \u001b[0;32mreturn\u001b[0m \u001b[0mres\u001b[0m\u001b[0;34m\u001b[0m\u001b[0;34m\u001b[0m\u001b[0m\n",
      "\u001b[0;32m/mnt/d/anaconda3/envs/env-38/lib/python3.8/site-packages/matplotlib/figure.py\u001b[0m in \u001b[0;36msavefig\u001b[0;34m(self, fname, transparent, **kwargs)\u001b[0m\n\u001b[1;32m   3013\u001b[0m                 \u001b[0mpatch\u001b[0m\u001b[0;34m.\u001b[0m\u001b[0mset_edgecolor\u001b[0m\u001b[0;34m(\u001b[0m\u001b[0;34m'none'\u001b[0m\u001b[0;34m)\u001b[0m\u001b[0;34m\u001b[0m\u001b[0;34m\u001b[0m\u001b[0m\n\u001b[1;32m   3014\u001b[0m \u001b[0;34m\u001b[0m\u001b[0m\n\u001b[0;32m-> 3015\u001b[0;31m         \u001b[0mself\u001b[0m\u001b[0;34m.\u001b[0m\u001b[0mcanvas\u001b[0m\u001b[0;34m.\u001b[0m\u001b[0mprint_figure\u001b[0m\u001b[0;34m(\u001b[0m\u001b[0mfname\u001b[0m\u001b[0;34m,\u001b[0m \u001b[0;34m**\u001b[0m\u001b[0mkwargs\u001b[0m\u001b[0;34m)\u001b[0m\u001b[0;34m\u001b[0m\u001b[0;34m\u001b[0m\u001b[0m\n\u001b[0m\u001b[1;32m   3016\u001b[0m \u001b[0;34m\u001b[0m\u001b[0m\n\u001b[1;32m   3017\u001b[0m         \u001b[0;32mif\u001b[0m \u001b[0mtransparent\u001b[0m\u001b[0;34m:\u001b[0m\u001b[0;34m\u001b[0m\u001b[0;34m\u001b[0m\u001b[0m\n",
      "\u001b[0;32m/mnt/d/anaconda3/envs/env-38/lib/python3.8/site-packages/matplotlib/backend_bases.py\u001b[0m in \u001b[0;36mprint_figure\u001b[0;34m(self, filename, dpi, facecolor, edgecolor, orientation, format, bbox_inches, pad_inches, bbox_extra_artists, backend, **kwargs)\u001b[0m\n\u001b[1;32m   2253\u001b[0m                 \u001b[0;31m# force the figure dpi to 72), so we need to set it again here.\u001b[0m\u001b[0;34m\u001b[0m\u001b[0;34m\u001b[0m\u001b[0;34m\u001b[0m\u001b[0m\n\u001b[1;32m   2254\u001b[0m                 \u001b[0;32mwith\u001b[0m \u001b[0mcbook\u001b[0m\u001b[0;34m.\u001b[0m\u001b[0m_setattr_cm\u001b[0m\u001b[0;34m(\u001b[0m\u001b[0mself\u001b[0m\u001b[0;34m.\u001b[0m\u001b[0mfigure\u001b[0m\u001b[0;34m,\u001b[0m \u001b[0mdpi\u001b[0m\u001b[0;34m=\u001b[0m\u001b[0mdpi\u001b[0m\u001b[0;34m)\u001b[0m\u001b[0;34m:\u001b[0m\u001b[0;34m\u001b[0m\u001b[0;34m\u001b[0m\u001b[0m\n\u001b[0;32m-> 2255\u001b[0;31m                     result = print_method(\n\u001b[0m\u001b[1;32m   2256\u001b[0m                         \u001b[0mfilename\u001b[0m\u001b[0;34m,\u001b[0m\u001b[0;34m\u001b[0m\u001b[0;34m\u001b[0m\u001b[0m\n\u001b[1;32m   2257\u001b[0m                         \u001b[0mfacecolor\u001b[0m\u001b[0;34m=\u001b[0m\u001b[0mfacecolor\u001b[0m\u001b[0;34m,\u001b[0m\u001b[0;34m\u001b[0m\u001b[0;34m\u001b[0m\u001b[0m\n",
      "\u001b[0;32m/mnt/d/anaconda3/envs/env-38/lib/python3.8/site-packages/matplotlib/backend_bases.py\u001b[0m in \u001b[0;36mwrapper\u001b[0;34m(*args, **kwargs)\u001b[0m\n\u001b[1;32m   1667\u001b[0m             \u001b[0mkwargs\u001b[0m\u001b[0;34m.\u001b[0m\u001b[0mpop\u001b[0m\u001b[0;34m(\u001b[0m\u001b[0marg\u001b[0m\u001b[0;34m)\u001b[0m\u001b[0;34m\u001b[0m\u001b[0;34m\u001b[0m\u001b[0m\n\u001b[1;32m   1668\u001b[0m \u001b[0;34m\u001b[0m\u001b[0m\n\u001b[0;32m-> 1669\u001b[0;31m         \u001b[0;32mreturn\u001b[0m \u001b[0mfunc\u001b[0m\u001b[0;34m(\u001b[0m\u001b[0;34m*\u001b[0m\u001b[0margs\u001b[0m\u001b[0;34m,\u001b[0m \u001b[0;34m**\u001b[0m\u001b[0mkwargs\u001b[0m\u001b[0;34m)\u001b[0m\u001b[0;34m\u001b[0m\u001b[0;34m\u001b[0m\u001b[0m\n\u001b[0m\u001b[1;32m   1670\u001b[0m \u001b[0;34m\u001b[0m\u001b[0m\n\u001b[1;32m   1671\u001b[0m     \u001b[0;32mreturn\u001b[0m \u001b[0mwrapper\u001b[0m\u001b[0;34m\u001b[0m\u001b[0;34m\u001b[0m\u001b[0m\n",
      "\u001b[0;32m/mnt/d/anaconda3/envs/env-38/lib/python3.8/site-packages/matplotlib/backends/backend_agg.py\u001b[0m in \u001b[0;36mprint_png\u001b[0;34m(self, filename_or_obj, metadata, pil_kwargs, *args)\u001b[0m\n\u001b[1;32m    507\u001b[0m         \"\"\"\n\u001b[1;32m    508\u001b[0m         \u001b[0mFigureCanvasAgg\u001b[0m\u001b[0;34m.\u001b[0m\u001b[0mdraw\u001b[0m\u001b[0;34m(\u001b[0m\u001b[0mself\u001b[0m\u001b[0;34m)\u001b[0m\u001b[0;34m\u001b[0m\u001b[0;34m\u001b[0m\u001b[0m\n\u001b[0;32m--> 509\u001b[0;31m         mpl.image.imsave(\n\u001b[0m\u001b[1;32m    510\u001b[0m             \u001b[0mfilename_or_obj\u001b[0m\u001b[0;34m,\u001b[0m \u001b[0mself\u001b[0m\u001b[0;34m.\u001b[0m\u001b[0mbuffer_rgba\u001b[0m\u001b[0;34m(\u001b[0m\u001b[0;34m)\u001b[0m\u001b[0;34m,\u001b[0m \u001b[0mformat\u001b[0m\u001b[0;34m=\u001b[0m\u001b[0;34m\"png\"\u001b[0m\u001b[0;34m,\u001b[0m \u001b[0morigin\u001b[0m\u001b[0;34m=\u001b[0m\u001b[0;34m\"upper\"\u001b[0m\u001b[0;34m,\u001b[0m\u001b[0;34m\u001b[0m\u001b[0;34m\u001b[0m\u001b[0m\n\u001b[1;32m    511\u001b[0m             dpi=self.figure.dpi, metadata=metadata, pil_kwargs=pil_kwargs)\n",
      "\u001b[0;32m/mnt/d/anaconda3/envs/env-38/lib/python3.8/site-packages/matplotlib/image.py\u001b[0m in \u001b[0;36mimsave\u001b[0;34m(fname, arr, vmin, vmax, cmap, format, origin, dpi, metadata, pil_kwargs)\u001b[0m\n\u001b[1;32m   1614\u001b[0m         \u001b[0mpil_kwargs\u001b[0m\u001b[0;34m.\u001b[0m\u001b[0msetdefault\u001b[0m\u001b[0;34m(\u001b[0m\u001b[0;34m\"format\"\u001b[0m\u001b[0;34m,\u001b[0m \u001b[0mformat\u001b[0m\u001b[0;34m)\u001b[0m\u001b[0;34m\u001b[0m\u001b[0;34m\u001b[0m\u001b[0m\n\u001b[1;32m   1615\u001b[0m         \u001b[0mpil_kwargs\u001b[0m\u001b[0;34m.\u001b[0m\u001b[0msetdefault\u001b[0m\u001b[0;34m(\u001b[0m\u001b[0;34m\"dpi\"\u001b[0m\u001b[0;34m,\u001b[0m \u001b[0;34m(\u001b[0m\u001b[0mdpi\u001b[0m\u001b[0;34m,\u001b[0m \u001b[0mdpi\u001b[0m\u001b[0;34m)\u001b[0m\u001b[0;34m)\u001b[0m\u001b[0;34m\u001b[0m\u001b[0;34m\u001b[0m\u001b[0m\n\u001b[0;32m-> 1616\u001b[0;31m         \u001b[0mimage\u001b[0m\u001b[0;34m.\u001b[0m\u001b[0msave\u001b[0m\u001b[0;34m(\u001b[0m\u001b[0mfname\u001b[0m\u001b[0;34m,\u001b[0m \u001b[0;34m**\u001b[0m\u001b[0mpil_kwargs\u001b[0m\u001b[0;34m)\u001b[0m\u001b[0;34m\u001b[0m\u001b[0;34m\u001b[0m\u001b[0m\n\u001b[0m\u001b[1;32m   1617\u001b[0m \u001b[0;34m\u001b[0m\u001b[0m\n\u001b[1;32m   1618\u001b[0m \u001b[0;34m\u001b[0m\u001b[0m\n",
      "\u001b[0;32m/mnt/d/anaconda3/envs/env-38/lib/python3.8/site-packages/PIL/Image.py\u001b[0m in \u001b[0;36msave\u001b[0;34m(self, fp, format, **params)\u001b[0m\n\u001b[1;32m   2230\u001b[0m                 \u001b[0mfp\u001b[0m \u001b[0;34m=\u001b[0m \u001b[0mbuiltins\u001b[0m\u001b[0;34m.\u001b[0m\u001b[0mopen\u001b[0m\u001b[0;34m(\u001b[0m\u001b[0mfilename\u001b[0m\u001b[0;34m,\u001b[0m \u001b[0;34m\"r+b\"\u001b[0m\u001b[0;34m)\u001b[0m\u001b[0;34m\u001b[0m\u001b[0;34m\u001b[0m\u001b[0m\n\u001b[1;32m   2231\u001b[0m             \u001b[0;32melse\u001b[0m\u001b[0;34m:\u001b[0m\u001b[0;34m\u001b[0m\u001b[0;34m\u001b[0m\u001b[0m\n\u001b[0;32m-> 2232\u001b[0;31m                 \u001b[0mfp\u001b[0m \u001b[0;34m=\u001b[0m \u001b[0mbuiltins\u001b[0m\u001b[0;34m.\u001b[0m\u001b[0mopen\u001b[0m\u001b[0;34m(\u001b[0m\u001b[0mfilename\u001b[0m\u001b[0;34m,\u001b[0m \u001b[0;34m\"w+b\"\u001b[0m\u001b[0;34m)\u001b[0m\u001b[0;34m\u001b[0m\u001b[0;34m\u001b[0m\u001b[0m\n\u001b[0m\u001b[1;32m   2233\u001b[0m \u001b[0;34m\u001b[0m\u001b[0m\n\u001b[1;32m   2234\u001b[0m         \u001b[0;32mtry\u001b[0m\u001b[0;34m:\u001b[0m\u001b[0;34m\u001b[0m\u001b[0;34m\u001b[0m\u001b[0m\n",
      "\u001b[0;31mFileNotFoundError\u001b[0m: [Errno 2] No such file or directory: 'Fig/Inte_vs.Particle0.png'"
     ]
    },
    {
     "data": {
      "image/png": "[encoded data removed]",
      "text/plain": [
       "<Figure size 360x216 with 1 Axes>"
      ]
     },
     "metadata": {
      "needs_background": "light"
     },
     "output_type": "display_data"
    }
   ],
   "source": [
    "N = 1000000\n",
    "sample = []\n",
    "\n",
    "fmax = np.max(boltez_distr(c_))\n",
    "# for i in range(N):\n",
    "    # sample.append(random_sample(c_,fmax,'m'))\n",
    "pc_ = random_sample(np.ones(N),fmax,'m')\n",
    "pen = ndv_to_e(pc_)\n",
    "psigma_ = find_sigma_tot(pen)\n",
    "nu = psigma_*pc_*Ndens_\n",
    "nu_max = np.max(nu)\n",
    "\n",
    "# find sample temperature \n",
    "pke_ = pc_**2*0.5\n",
    "mean_ke = np.mean(pke_)\n",
    "temp_sample = mean_ke/1.5\n",
    "init_temp.append(temp_sample)\n",
    "\n",
    "# find max_collision part in total collision\n",
    "P_cmax = 1 - np.exp(-nu_max*dt_)\n",
    "n_selected = int(N * P_cmax)\n",
    "pc_s = np.random.choice(pc_,n_selected,replace=False)\n",
    "pen_s = ndv_to_e(pc_s)\n",
    "psigma_s = find_sigma_tot(pen_s)\n",
    "nu_s = psigma_s*pc_s*Ndens_\n",
    "P_cs = 1 - np.exp(-nu_s*dt_)\n",
    "\n",
    "# Clarify collision to effective and null\n",
    "collection = []\n",
    "num_sample = 100\n",
    "ave = 1/(dt_*N)\n",
    "ind = np.arange(num_sample)\n",
    "one = np.ones(num_sample)\n",
    "for i in ind:\n",
    "    eff_c = effective_collisions(P_cs,P_cmax)\n",
    "    collection.append(eff_c*ave)\n",
    "collection = np.array(collection)\n",
    "fqINTE = (ind*0+1)*cfq1_\n",
    "average_collision_frequency = np.mean(collection)\n",
    "average_collision_frequency = np.ones(num_sample)*np.mean(collection)\n",
    "collision_frequency.append(average_collision_frequency[0])\n",
    "\n",
    "df = pd.DataFrame(collection,columns=['nu'])\n",
    "fig,ax = plt.subplots(figsize = (5,3))\n",
    "# # ax1 = fig.add_subplot(2,1,1) \n",
    "ax.scatter(df.index, df.values)\n",
    "ax.plot(ind,fqINTE,color='r',linewidth=2.5)\n",
    "ax.plot(ind,average_collision_frequency,color='k',linewidth=2.5)\n",
    "plt.grid()\n",
    "\n",
    "img_name = \"Fig/Inte_vs.Particle{}\".format(id)\n",
    "id+=1\n",
    "plt.tight_layout()\n",
    "plt.savefig(img_name+'.png',dpi=300)\n",
    "plt.show()\n",
    "\n",
    "cfq = np.array(collision_frequency)\n",
    "itemp = np.array(init_temp)\n",
    "size = len(collision_frequency)\n",
    "x = range(size)\n",
    "fig,ax2 = plt.subplots(figsize = (10,6))\n",
    "# ax1 = fig.add_subplot(2,1,1) \n",
    "# ax1.scatter(x,itemp,marker='+',color='k')\n",
    "# ax1.plot(x,np.ones(size),linewidth = 2.5, color = \"g\")\n",
    "# ax1.set_ylabel(r\"$\\tilde{T}_{e}$\", fontsize=18)\n",
    "# ax1.tick_params(labelsize=16)\n",
    "# plt.grid()\n",
    "\n",
    "# ax2 = fig.add_subplot(2,1,2)\n",
    "ax2.scatter(x,cfq,color='b')\n",
    "ax2.plot(x,np.ones(size)*cfq1_,linewidth = 2.5, color = \"r\")\n",
    "ax2.set_ylabel(r'$\\tilde{\\nu}_e$',fontsize=18)\n",
    "ax2.set_xlabel(r\"$N$\", fontsize=18)\n",
    "ax2.tick_params(labelsize=16)\n",
    "plt.grid()\n",
    "plt.tight_layout()\n",
    "img_name = \"Fig/null_collision_method\"\n",
    "plt.savefig(img_name+\".png\",dpi=300)"
   ]
  },
  {
   "cell_type": "code",
   "execution_count": null,
   "metadata": {},
   "outputs": [
    {
     "data": {
      "text/plain": [
       "3430.9172445129434"
      ]
     },
     "execution_count": 111,
     "metadata": {},
     "output_type": "execute_result"
    }
   ],
   "source": [
    "P_cmax*N"
   ]
  },
  {
   "cell_type": "code",
   "execution_count": null,
   "metadata": {},
   "outputs": [
    {
     "ename": "NameError",
     "evalue": "name 'pc_' is not defined",
     "output_type": "error",
     "traceback": [
      "\u001b[1;31m---------------------------------------------------------------------------\u001b[0m",
      "\u001b[1;31mNameError\u001b[0m                                 Traceback (most recent call last)",
      "\u001b[1;32m~\\AppData\\Local\\Temp/ipykernel_9784/3194803362.py\u001b[0m in \u001b[0;36m<module>\u001b[1;34m\u001b[0m\n\u001b[0;32m      1\u001b[0m \u001b[1;32mimport\u001b[0m \u001b[0mpandas\u001b[0m \u001b[1;32mas\u001b[0m \u001b[0mpd\u001b[0m\u001b[1;33m\u001b[0m\u001b[1;33m\u001b[0m\u001b[0m\n\u001b[1;32m----> 2\u001b[1;33m \u001b[0mdataframe\u001b[0m \u001b[1;33m=\u001b[0m \u001b[0mpd\u001b[0m\u001b[1;33m.\u001b[0m\u001b[0mDataFrame\u001b[0m\u001b[1;33m(\u001b[0m\u001b[0mpc_\u001b[0m\u001b[1;33m,\u001b[0m\u001b[0mcolumns\u001b[0m\u001b[1;33m=\u001b[0m\u001b[1;33m[\u001b[0m\u001b[1;34m'c'\u001b[0m\u001b[1;33m]\u001b[0m\u001b[1;33m)\u001b[0m\u001b[1;33m\u001b[0m\u001b[1;33m\u001b[0m\u001b[0m\n\u001b[0m\u001b[0;32m      3\u001b[0m \u001b[1;33m\u001b[0m\u001b[0m\n\u001b[0;32m      4\u001b[0m \u001b[0mfig\u001b[0m \u001b[1;33m=\u001b[0m \u001b[0mplt\u001b[0m\u001b[1;33m.\u001b[0m\u001b[0mfigure\u001b[0m\u001b[1;33m(\u001b[0m\u001b[0mfigsize\u001b[0m \u001b[1;33m=\u001b[0m \u001b[1;33m(\u001b[0m\u001b[1;36m10\u001b[0m\u001b[1;33m,\u001b[0m\u001b[1;36m6\u001b[0m\u001b[1;33m)\u001b[0m\u001b[1;33m)\u001b[0m\u001b[1;33m\u001b[0m\u001b[1;33m\u001b[0m\u001b[0m\n\u001b[0;32m      5\u001b[0m \u001b[0max1\u001b[0m \u001b[1;33m=\u001b[0m \u001b[0mfig\u001b[0m\u001b[1;33m.\u001b[0m\u001b[0madd_subplot\u001b[0m\u001b[1;33m(\u001b[0m\u001b[1;36m2\u001b[0m\u001b[1;33m,\u001b[0m\u001b[1;36m1\u001b[0m\u001b[1;33m,\u001b[0m\u001b[1;36m1\u001b[0m\u001b[1;33m)\u001b[0m\u001b[1;33m\u001b[0m\u001b[1;33m\u001b[0m\u001b[0m\n",
      "\u001b[1;31mNameError\u001b[0m: name 'pc_' is not defined"
     ]
    }
   ],
   "source": [
    "import pandas as pd\n",
    "dataframe = pd.DataFrame(pc_,columns=['c'])\n",
    "\n",
    "fig = plt.figure(figsize = (10,6))\n",
    "ax1 = fig.add_subplot(2,1,1) \n",
    "ax1.scatter(dataframe.index, dataframe.values)\n",
    "plt.plot(range(N),np.ones(N)*sqrt(2),'r')\n",
    "plt.grid()\n",
    "\n",
    "ax2 = fig.add_subplot(2,1,2) \n",
    "dataframe.hist(bins=30,alpha = 0.5,ax = ax2)\n",
    "dataframe.plot(kind = 'kde', secondary_y=True,ax = ax2)\n",
    "plt.grid()"
   ]
  },
  {
   "cell_type": "code",
   "execution_count": null,
   "metadata": {},
   "outputs": [],
   "source": []
  }
 ],
 "metadata": {
  "interpreter": {
   "hash": "fe27b77ec8fd732b20e348a16279d88941268cc36de265568c61768b1a2237db"
  },
  "kernelspec": {
   "display_name": "Python 3.8.11 64-bit ('env-38': conda)",
   "name": "python3"
  },
  "language_info": {
   "codemirror_mode": {
    "name": "ipython",
    "version": 3
   },
   "file_extension": ".py",
   "mimetype": "text/x-python",
   "name": "python",
   "nbconvert_exporter": "python",
   "pygments_lexer": "ipython3",
   "version": "3.8.11"
  },
  "orig_nbformat": 4
 },
 "nbformat": 4,
 "nbformat_minor": 2
}
