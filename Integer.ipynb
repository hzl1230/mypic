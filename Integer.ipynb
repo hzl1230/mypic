{
 "cells": [
  {
   "cell_type": "code",
   "execution_count": null,
   "metadata": {},
   "outputs": [],
   "source": [
    "import numpy as np\n",
    "import matplotlib.pyplot as plt\n",
    "import scipy.constants as scc\n",
    "import pandas as pd\n",
    "import math\n",
    "import scipy "
   ]
  },
  {
   "cell_type": "code",
   "execution_count": null,
   "metadata": {},
   "outputs": [],
   "source": [
    "# Define Physics Constants\n",
    "k = scc.k\n",
    "e = scc.e\n",
    "me = scc.m_e\n",
    "pi = scc.pi\n",
    "eVJ = scc.eV\n",
    "eps = scc.epsilon_0\n",
    "print(k,e,me,pi,eVJ,eps)"
   ]
  },
  {
   "cell_type": "code",
   "execution_count": null,
   "metadata": {},
   "outputs": [],
   "source": [
    "T_e0 = 3000. \n",
    "n_e0 = 1e15\n",
    "Pressure = 10. \n",
    "Temperature = 300. \n",
    "e_EXC_TH = 11.5\n",
    "e_ION_TH = 15.8\n",
    "\n",
    "Ndens = Pressure/k/Temperature\n",
    "omega_pe0 = pow(n_e0*e*e/eps/me, 0.5)\n",
    "kTe0 = k*T_e0/eVJ\n",
    "v_te0 = (k*T_e0/me)**0.5\n",
    "sigma0 = n_e0*v_te0/omega_pe0\n",
    "print(Ndens,omega_pe0,v_te0,kTe0,sigma0)"
   ]
  },
  {
   "cell_type": "code",
   "execution_count": null,
   "metadata": {},
   "outputs": [],
   "source": [
    "Ndens_ = Ndens/n_e0\n",
    "Te_ = 1\n",
    "me_ = 1\n",
    "dt_ = 0.1"
   ]
  },
  {
   "cell_type": "code",
   "execution_count": null,
   "metadata": {},
   "outputs": [],
   "source": [
    "def sample_boltez_distr(R1,R2,m=me_,Tr=Te_,Cm=0):\n",
    "    # Ci = Cm + (2*k*Tr/m)**0.5*np.sin(R1*2*pi)*(-np.log(R2))**0.5\n",
    "    Ci_ = (2*Tr/me_)**0.5*np.sin(R1*2*pi)*(-np.log(R2))**0.5\n",
    "    return Ci_\n",
    "def energy(c,m=me_):\n",
    "    return 0.5*m*c*c\n",
    "def boltez_distr(c):\n",
    "    beta = (me/2/k/T_e0)**0.5\n",
    "    # print(\"Cm =\", 1/beta)\n",
    "    c2 = c*c\n",
    "    # fc = 4/sqrt_pi*beta**3*c2*np.exp(-beta*beta*c2)\n",
    "    fc_ = (2/pi)**0.5*c2*np.exp(-0.5*c2)\n",
    "    return fc_\n",
    "def find_cmax(em):\n",
    "    em_ = em/kTe0\n",
    "    cm_ = (em_*2)**0.5\n",
    "    return cm_\n",
    "def ndv_to_e(v_,printmode=False):\n",
    "    # from v_ to e \n",
    "    e_ = 0.5*1*v_*v_\n",
    "    e0 = e_*kTe0\n",
    "    if printmode:\n",
    "        print(\"E_max=\",np.max(e0))\n",
    "    return e0\n",
    "def fabs(x):\n",
    "    return np.fabs(x)\n",
    "def sqrt(x):\n",
    "    return x**0.5"
   ]
  },
  {
   "cell_type": "code",
   "execution_count": null,
   "metadata": {},
   "outputs": [],
   "source": [
    "# simga_tot\n",
    "f_qELA = lambda en: 1e-20*(fabs(6.0 / pow(1.0 + (en/0.1) + pow(en/0.6,2.0), 3.3)- 1.1 * pow(en, 1.4) / (1.0 + pow(en/15.0, 1.2)) / sqrt(1.0 + pow(en/5.5, 2.5) + pow(en/60.0, 4.1))) + 0.05 / pow(1.0 + en/10.0, 2.0) + 0.01 * pow(en, 3.0) / (1.0 + pow(en/12.0, 6.0)))\n",
    "\n",
    "qEXC = lambda en: 1e-20*(0.034 * pow(en-11.5, 1.1) * (1.0 + pow(en/15.0, 2.8)) / (1.0 + pow(en/23.0, 5.5)) + 0.023 * (en-11.5) / pow(1.0 + en/80.0, 1.9)) if en>e_EXC_TH else 0.\n",
    "\n",
    "qION = lambda en: 1e-20*(970.0 * (en-15.8) / pow(70.0 + en, 2.0) + 0.06 * pow(en-15.8, 2.0) * np.exp(-en/9)) if en > e_ION_TH else 0.\n",
    "\n",
    "f_qEXC = np.vectorize(qEXC)\n",
    "f_qION = np.vectorize(qION)\n",
    "en = np.array([0,11.5,16])\n",
    "print(qEXC(16))\n",
    "f_qEXC(en)"
   ]
  },
  {
   "cell_type": "code",
   "execution_count": null,
   "metadata": {},
   "outputs": [],
   "source": [
    "e_max = 50\n",
    "cm_ = find_cmax(e_max)\n",
    "print(\"Vte =\", v_te0)\n",
    "c_ = np.arange(0,cm_+0.01,0.01)\n",
    "fc_=boltez_distr(c_)\n",
    "plt.plot(c_,boltez_distr(c_))\n",
    "plt.vlines(sqrt(2),0.01,0.6,colors = \"k\", linestyles = \"dashed\", linewidth=0.7)"
   ]
  },
  {
   "cell_type": "code",
   "execution_count": null,
   "metadata": {},
   "outputs": [],
   "source": [
    "e = ndv_to_e(c_)\n",
    "sigma_ela = f_qELA(e)\n",
    "sigma_exc = f_qEXC(e)\n",
    "sigma_ion = f_qION(e)\n",
    "sigma_tot = np.zeros(sigma_ela.shape)\n",
    "sigma = [sigma_ela, sigma_exc, sigma_ion]\n",
    "for si in sigma:\n",
    "    sigma_tot += si\n",
    "sigma_tot *= sigma0\n",
    "plt.plot(c_,sigma_tot)"
   ]
  },
  {
   "cell_type": "code",
   "execution_count": null,
   "metadata": {},
   "outputs": [],
   "source": [
    "def find_sigma_tot(e):\n",
    "    sigma_ela = f_qELA(e)\n",
    "    sigma_exc = f_qEXC(e)\n",
    "    sigma_ion = f_qION(e)\n",
    "    sigma_tot = np.zeros(sigma_ela.shape)\n",
    "    sigma = [sigma_ela, sigma_exc, sigma_ion]\n",
    "    for si in sigma:\n",
    "        sigma_tot += si\n",
    "    sigma_tot *= sigma0\n",
    "    return sigma_tot\n",
    "\n",
    "e_max = 50\n",
    "cm_ = find_cmax(e_max)\n",
    "print(\"Vte =\", v_te0)\n",
    "c_ = np.arange(0,cm_+0.01,0.01)\n",
    "fc_=boltez_distr(c_)\n",
    "e = ndv_to_e(c_)\n",
    "sigma_tot = find_sigma_tot(e)\n",
    "\n",
    "i = 0\n",
    "size = fc_.shape[0]\n",
    "dc_ = 0.01\n",
    "integer = 0\n",
    "nu = fc_*sigma_tot*c_*Ndens_\n",
    "\n",
    "while i < size-1:\n",
    "    c_half = 0.5*(c_[i]+c_[i+1])\n",
    "    en_half = ndv_to_e(c_half)\n",
    "    sigma_half = find_sigma_tot(en_half)\n",
    "    nu_half = boltez_distr(c_half)*sigma_half*c_half*Ndens_\n",
    "    s1 = (1/6*nu[i]+4/6*nu_half+1/6*nu[i+1])*dc_\n",
    "    # fc_05 = boltez_distr(0.5*(c_[i]+c_[i+1]))\n",
    "    # s1 = (1/6*fc_[i]+4/6*fc_05+1/6*fc_[i+1])*dc_\n",
    "    integer += s1\n",
    "    i += 1\n",
    "print(\"Non-Dimension Collision Frequency IN THIS CASE is\",integer)\n",
    "cfq1_ = integer"
   ]
  },
  {
   "cell_type": "code",
   "execution_count": null,
   "metadata": {},
   "outputs": [],
   "source": [
    "def random_sample(c_,fmax,mode=\"ar\"):\n",
    "# acceptance and reject\n",
    "    if mode == \"ar\":\n",
    "        while True:\n",
    "            R1 = np.random.rand()\n",
    "            c = 0 + R1*(c_[-1]-c_[0])\n",
    "            fc = boltez_distr(c)\n",
    "            R2 = np.random.rand()\n",
    "            if R2 < fc/fmax:\n",
    "                break\n",
    "    elif mode == \"m\":\n",
    "        n = c_.shape[0]\n",
    "        sq2 = sqrt(2)\n",
    "        \n",
    "        R1 = np.random.rand(3*n)\n",
    "        R2 = np.random.rand(3*n)\n",
    "        vel = sq2*np.sin(2*pi*R1)*(-np.log(R2))**0.5\n",
    "        vx, vy, vz = vel[0:n-1], vel[n:2*n-1], vel[2*n:3*n-1]\n",
    "        c = (vx*vx+vy*vy+vz*vz)**0.5\n",
    "    return c\n",
    "\n",
    "def find_sigma_tot(e):\n",
    "    sigma_ela = f_qELA(e)\n",
    "    sigma_exc = f_qEXC(e)\n",
    "    sigma_ion = f_qION(e)\n",
    "    sigma_tot = np.zeros(sigma_ela.shape)\n",
    "    sigma = [sigma_ela, sigma_exc, sigma_ion]\n",
    "    for si in sigma:\n",
    "        sigma_tot += si\n",
    "    sigma_tot *= sigma0\n",
    "    return sigma_tot"
   ]
  },
  {
   "cell_type": "code",
   "execution_count": null,
   "metadata": {},
   "outputs": [],
   "source": [
    "pc_=random_sample(np.zeros(10000),1,\"m\")"
   ]
  },
  {
   "cell_type": "code",
   "execution_count": null,
   "metadata": {},
   "outputs": [],
   "source": [
    "N = 10000\n",
    "sample = []\n",
    "fmax = np.max(boltez_distr(c_))\n",
    "for i in range(N):\n",
    "    sample.append(random_sample(c_,fmax))\n",
    "pc_ = np.array(sample)\n",
    "\n",
    "print(np.mean(pc_), sqrt(2/pi)*2)\n",
    "fmax"
   ]
  },
  {
   "cell_type": "code",
   "execution_count": null,
   "metadata": {},
   "outputs": [],
   "source": [
    "import pandas as pd\n",
    "dataframe = pd.DataFrame(pc_,columns=['c'])\n",
    "\n",
    "fig = plt.figure(figsize = (10,6))\n",
    "ax1 = fig.add_subplot(2,1,1) \n",
    "ax1.scatter(dataframe.index, dataframe.values)\n",
    "plt.plot(range(N),np.ones(N)*sqrt(2),'r')\n",
    "plt.grid()\n",
    "\n",
    "ax2 = fig.add_subplot(2,1,2) \n",
    "dataframe.hist(bins=30,alpha = 0.5,ax = ax2)\n",
    "dataframe.plot(kind = 'kde', secondary_y=True,ax = ax2)\n",
    "plt.grid()"
   ]
  },
  {
   "cell_type": "code",
   "execution_count": null,
   "metadata": {},
   "outputs": [],
   "source": [
    "print(1/cfq1_)"
   ]
  },
  {
   "cell_type": "code",
   "execution_count": null,
   "metadata": {},
   "outputs": [],
   "source": [
    "def effective_collisions(P_cs):\n",
    "    nparts = P_cs.shape[0]\n",
    "    effective_collisions = 0\n",
    "    for i in range(nparts):\n",
    "        R = np.random.rand()\n",
    "        if R < P_cs[i]/P_cmax:\n",
    "            effective_collisions += 1\n",
    "    return effective_collisions"
   ]
  },
  {
   "cell_type": "code",
   "execution_count": null,
   "metadata": {},
   "outputs": [],
   "source": [
    "N = 10000\n",
    "pc_=random_sample(np.zeros(N),1,\"m\")\n",
    "pen = ndv_to_e(pc_)\n",
    "psigma = find_sigma_tot(pen)\n",
    "nu = psigma*pc_*Ndens_\n",
    "nu_max = np.max(nu)\n",
    "\n",
    "# find null_collision part in total collision\n",
    "P_cmax = 1 - np.exp(-nu_max*dt_)\n",
    "n_selected = int(N * P_cmax)\n",
    "pc_s = np.random.choice(pc_,n_selected,replace=False)\n",
    "pen_s = ndv_to_e(pc_s)\n",
    "psigma_s = find_sigma_tot(pen_s)\n",
    "nu_s = psigma_s*pc_s*Ndens_\n",
    "P_cs = 1 - np.exp(-nu_s*dt_)\n",
    "\n",
    "collection = []\n",
    "ave = 1/(dt_*N)\n",
    "ind = np.arange(2000)\n",
    "for i in ind:\n",
    "    eff_c = effective_collisions(P_cs)\n",
    "    collection.append(eff_c*ave)\n",
    "collection = np.array(collection)\n",
    "fqINTE = (ind*0+1)*cfq1_\n",
    "avefreq = (ind*0+1)*np.mean(collection)\n",
    "plt.scatter(ind,collection,marker='o')\n",
    "plt.plot(ind,fqINTE,linewidth=2.5,color='r')\n",
    "plt.plot(ind,avefreq,color='k',linewidth=2.5)\n",
    "plt.show()\n"
   ]
  },
  {
   "cell_type": "code",
   "execution_count": null,
   "metadata": {},
   "outputs": [],
   "source": [
    "def find_collision(nu):\n",
    "    npart = nu.shape[0]\n",
    "    count_collisions = 0\n",
    "    Pc = 1 - np.exp(-nu*dt_)\n",
    "    R = np.random.rand(npart)\n",
    "    for i in range(npart):\n",
    "        if R[i] < Pc[i]:\n",
    "            count_collisions += 1\n",
    "    return count_collisions\n",
    "\n",
    "# find_collision = np.vectorize(find_collision)"
   ]
  },
  {
   "cell_type": "code",
   "execution_count": null,
   "metadata": {},
   "outputs": [],
   "source": [
    "store = []"
   ]
  },
  {
   "cell_type": "code",
   "execution_count": null,
   "metadata": {},
   "outputs": [],
   "source": [
    "N = 10000\n",
    "nsamp = 30\n",
    "dt_ = 0.1\n",
    "integer_coll_freq = 0.002744762867676734\n",
    "collection = []\n",
    "for ns in range(nsamp): \n",
    "    pc_=random_sample(np.zeros(N),1,\"m\")\n",
    "    pen = ndv_to_e(pc_)\n",
    "    psigma_ = find_sigma_tot(pen)\n",
    "    nu_ = psigma_*pc_*Ndens_\n",
    "    coll_count = find_collision(nu_)\n",
    "    collection.append(coll_count)\n",
    "coll_counts = np.array(collection)\n",
    "unit_coll_freq = coll_counts/N/dt_\n",
    "average_coll_freq = np.mean(unit_coll_freq)\n",
    "store.append(average_coll_freq)\n",
    "nsamp_list = np.arange(nsamp)\n",
    "plt.scatter(nsamp_list, unit_coll_freq)\n",
    "plt.plot(nsamp_list, average_coll_freq*np.ones(nsamp),color='k',linewidth=2.5)\n",
    "plt.plot(nsamp_list, integer_coll_freq*np.ones(nsamp),color='r',linewidth=2.5)\n",
    "plt.show()"
   ]
  },
  {
   "cell_type": "code",
   "execution_count": null,
   "metadata": {},
   "outputs": [],
   "source": [
    "def effective_collisions(P_cs):\n",
    "    nparts = P_cs.shape[0]\n",
    "    effective_collisions = 0\n",
    "    for i in range(nparts):\n",
    "        R = np.random.rand()\n",
    "        if R < P_cs[i]/P_cmax:\n",
    "            effective_collisions += 1\n",
    "    return effective_collisions"
   ]
  },
  {
   "cell_type": "code",
   "execution_count": null,
   "metadata": {},
   "outputs": [],
   "source": [
    "collision_frequency = []\n",
    "init_temp = []\n",
    "def effective_collisions(P_sc, P_cmax):\n",
    "    nparts = P_sc.shape[0]\n",
    "    effective_collisions = 0\n",
    "    for i in range(nparts):\n",
    "        R = np.random.rand()\n",
    "        if R < P_sc[i]/P_cmax:\n",
    "            effective_collisions += 1\n",
    "    return effective_collisions\n",
    "\n",
    "def random_sample(c_,fmax):\n",
    "# acceptance and reject\n",
    "    while True:\n",
    "        R1 = np.random.rand()\n",
    "        c = 0 + R1*(c_[-1]-c_[0])\n",
    "        fc = boltez_distr(c)\n",
    "        R2 = np.random.rand()\n",
    "        if R2 < fc/fmax:\n",
    "            break\n",
    "    return c\n",
    "\n",
    "def find_sigma_tot(e):\n",
    "    sigma_ela = f_qELA(e)\n",
    "    sigma_exc = f_qEXC(e)\n",
    "    sigma_ion = f_qION(e)\n",
    "    sigma_tot = np.zeros(sigma_ela.shape)\n",
    "    sigma = [sigma_ela, sigma_exc, sigma_ion]\n",
    "    for si in sigma:\n",
    "        sigma_tot += si\n",
    "    sigma_tot *= sigma0\n",
    "    return sigma_tot\n"
   ]
  },
  {
   "cell_type": "code",
   "execution_count": null,
   "metadata": {},
   "outputs": [],
   "source": [
    "cfq = np.array(collision_frequency)\n",
    "itemp = np.array(init_temp)\n",
    "size = len(init_temp)\n",
    "x = range(size)\n",
    "fig = plt.figure(figsize = (10,6))\n",
    "ax1 = fig.add_subplot(2,1,1) \n",
    "ax1.scatter(x,itemp,marker='+',color='k')\n",
    "ax1.plot(x,np.ones(size),linewidth = 2.5, color = \"g\")\n",
    "# ax1.set_xlabel('N')\n",
    "ax1.set_ylabel(r'$\\tilde{T}_e$')\n",
    "plt.grid()\n",
    "\n",
    "ax2 = fig.add_subplot(2,1,2)\n",
    "ax2.scatter(x,cfq,color='b')\n",
    "ax2.plot(x,np.ones(size)*cfq1_,linewidth = 2.5, color = \"r\")\n",
    "ax2.set_ylabel(r'$\\tilde{\\nu}_e$')\n",
    "plt.grid()\n",
    "plt.tight_layout()"
   ]
  },
  {
   "cell_type": "code",
   "execution_count": null,
   "metadata": {},
   "outputs": [],
   "source": [
    "collision_frequency = []\n",
    "init_temp = []"
   ]
  },
  {
   "cell_type": "code",
   "execution_count": 404,
   "metadata": {},
   "outputs": [
    {
     "data": {
      "image/png": "[encoded data removed]",
      "text/plain": [
       "<Figure size 360x216 with 1 Axes>"
      ]
     },
     "metadata": {
      "needs_background": "light"
     },
     "output_type": "display_data"
    }
   ],
   "source": [
    "N = 10000\n",
    "sample = []\n",
    "\n",
    "fmax = np.max(boltez_distr(c_))\n",
    "# for i in range(N):\n",
    "    # sample.append(random_sample(c_,fmax,'m'))\n",
    "pc_ = random_sample(c_,fmax,'m')\n",
    "pen = ndv_to_e(pc_)\n",
    "psigma_ = find_sigma_tot(pen)\n",
    "nu = psigma_*pc_*Ndens_\n",
    "nu_max = np.max(nu)\n",
    "\n",
    "# find sample temperature \n",
    "pke_ = pc_**2*0.5\n",
    "mean_ke = np.mean(pke_)\n",
    "temp_sample = mean_ke/1.5\n",
    "init_temp.append(temp_sample)\n",
    "\n",
    "# find max_collision part in total collision\n",
    "P_cmax = 1 - np.exp(-nu_max*dt_)\n",
    "n_selected = int(N * P_cmax)\n",
    "pc_s = np.random.choice(pc_,n_selected,replace=False)\n",
    "pen_s = ndv_to_e(pc_s)\n",
    "psigma_s = find_sigma_tot(pen_s)\n",
    "nu_s = psigma_s*pc_s*Ndens_\n",
    "P_cs = 1 - np.exp(-nu_s*dt_)\n",
    "\n",
    "# Clarify collision to effective and null\n",
    "collection = []\n",
    "num_sample = 100\n",
    "ave = 1/(dt_*N)\n",
    "ind = np.arange(num_sample)\n",
    "one = np.ones(num_sample)\n",
    "for i in ind:\n",
    "    eff_c = effective_collisions(P_cs,P_cmax)\n",
    "    collection.append(eff_c*ave)\n",
    "collection = np.array(collection)\n",
    "fqINTE = (ind*0+1)*cfq1_\n",
    "average_collision_frequency = np.mean(collection)\n",
    "average_collision_frequency = np.ones(num_sample)*np.mean(collection)\n",
    "collision_frequency.append(average_collision_frequency[0])\n",
    "\n",
    "df = pd.DataFrame(collection,columns=['nu'])\n",
    "fig,ax = plt.subplots(figsize = (5,3))\n",
    "# # ax1 = fig.add_subplot(2,1,1) \n",
    "ax.scatter(df.index, df.values)\n",
    "ax.plot(ind,fqINTE,color='r',linewidth=2.5)\n",
    "ax.plot(ind,average_collision_frequency,color='k',linewidth=2.5)\n",
    "plt.grid()\n",
    "\n",
    "img_name = \"Fig/Inte_vs.Particle{}\".format(id)\n",
    "\n",
    "plt.tight_layout()\n",
    "plt.savefig(img_name+'.png',dpi=300)\n",
    "plt.show()"
   ]
  },
  {
   "cell_type": "code",
   "execution_count": 356,
   "metadata": {},
   "outputs": [
    {
     "name": "stdout",
     "output_type": "stream",
     "text": [
      "43 44\n"
     ]
    }
   ],
   "source": [
    "print(len(collision_frequency),len(init_temp))"
   ]
  },
  {
   "cell_type": "code",
   "execution_count": 408,
   "metadata": {},
   "outputs": [
    {
     "data": {
      "image/png": "[encoded data removed]",
      "text/plain": [
       "<Figure size 720x432 with 2 Axes>"
      ]
     },
     "metadata": {
      "needs_background": "light"
     },
     "output_type": "display_data"
    }
   ],
   "source": [
    "cfq = np.array(collision_frequency)\n",
    "itemp = np.array(init_temp[1:])\n",
    "size = len(collision_frequency)\n",
    "x = range(size)\n",
    "fig = plt.figure(figsize = (10,6))\n",
    "ax1 = fig.add_subplot(2,1,1) \n",
    "ax1.scatter(x,itemp,marker='+',color='k')\n",
    "ax1.plot(x,np.ones(size),linewidth = 2.5, color = \"g\")\n",
    "ax1.set_ylabel(r\"$\\tilde{T}_{e}$\", fontsize=18)\n",
    "ax1.tick_params(labelsize=16)\n",
    "plt.grid()\n",
    "\n",
    "ax2 = fig.add_subplot(2,1,2)\n",
    "ax2.scatter(x,cfq,color='b')\n",
    "ax2.plot(x,np.ones(size)*cfq1_,linewidth = 2.5, color = \"r\")\n",
    "ax2.set_ylabel(r'$\\tilde{\\nu}_e$',fontsize=18)\n",
    "ax2.set_xlabel(r\"$N$\", fontsize=18)\n",
    "ax2.tick_params(labelsize=16)\n",
    "plt.grid()\n",
    "plt.tight_layout()\n",
    "img_name = \"Fig/null_collision_method\"\n",
    "plt.savefig(img_name+\".png\",dpi=300)"
   ]
  },
  {
   "cell_type": "code",
   "execution_count": null,
   "metadata": {},
   "outputs": [],
   "source": []
  }
 ],
 "metadata": {
  "interpreter": {
   "hash": "8de6c9f95ac5e73c4cfe7f2f1fcf4b87e09f7ec63080227d1207004810f94605"
  },
  "kernelspec": {
   "display_name": "Python 3.8.11 64-bit ('env-plot': conda)",
   "name": "python3"
  },
  "language_info": {
   "codemirror_mode": {
    "name": "ipython",
    "version": 3
   },
   "file_extension": ".py",
   "mimetype": "text/x-python",
   "name": "python",
   "nbconvert_exporter": "python",
   "pygments_lexer": "ipython3",
   "version": "3.8.11"
  },
  "orig_nbformat": 4
 },
 "nbformat": 4,
 "nbformat_minor": 2
}
